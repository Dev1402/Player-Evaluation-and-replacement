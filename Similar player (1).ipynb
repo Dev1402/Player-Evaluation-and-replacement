{
 "cells": [
  {
   "cell_type": "code",
   "execution_count": null,
   "metadata": {},
   "outputs": [],
   "source": [
    "import pandas as pd\n",
    "import numpy as np\n",
    "\n",
    "#for plotting\n",
    "import seaborn as sns\n",
    "import matplotlib.pyplot as plt\n",
    "\n",
    "#for plotting football pitch\n",
    "from matplotlib.patches import Arc\n",
    "\n",
    "#for modelling\n",
    "import sklearn\n",
    "from sklearn.preprocessing import normalize \n",
    "from sklearn.cluster import KMeans\n",
    "from sklearn.preprocessing import MinMaxScaler\n",
    "from sklearn.metrics.pairwise import cosine_similarity\n",
    "from sklearn.metrics.pairwise import euclidean_distances\n",
    "from sklearn import metrics\n",
    "from scipy.spatial.distance import cdist"
   ]
  },
  {
   "cell_type": "code",
   "execution_count": null,
   "metadata": {},
   "outputs": [],
   "source": [
    "sklearn.__version__"
   ]
  },
  {
   "cell_type": "code",
   "execution_count": null,
   "metadata": {},
   "outputs": [],
   "source": [
    "#setting up the screen to view the data fully\n",
    "pd.set_option('display.max_rows', 500)\n",
    "pd.set_option('display.max_columns', 500)\n",
    "pd.set_option('display.width', 1000)\n"
   ]
  },
  {
   "cell_type": "markdown",
   "metadata": {},
   "source": [
    "## Loading the Data"
   ]
  },
  {
   "cell_type": "code",
   "execution_count": null,
   "metadata": {},
   "outputs": [],
   "source": [
    "# Importing the file and reading the data\n",
    "df_1 = pd.read_csv('/Users/devanshchawla/Downloads/DataAnalystTask.csv',encoding = \"ISO-8859-1\",parse_dates=True)"
   ]
  },
  {
   "cell_type": "code",
   "execution_count": null,
   "metadata": {},
   "outputs": [],
   "source": [
    "# Keeping a copy of the original data set\n",
    "df = df_1.copy()\n"
   ]
  },
  {
   "cell_type": "markdown",
   "metadata": {},
   "source": [
    "## Exploratory Data analysis"
   ]
  },
  {
   "cell_type": "code",
   "execution_count": null,
   "metadata": {},
   "outputs": [],
   "source": [
    "# Going throught the data set of everton player\n",
    "df_everton = df[df['Team']=='Everton']"
   ]
  },
  {
   "cell_type": "code",
   "execution_count": null,
   "metadata": {},
   "outputs": [],
   "source": [
    "# Checking out the different players in the everton team for comparing later\n",
    "df_everton = df_everton[df_everton['detailed_position']=='Central Defender']\n",
    "df_everton['Player Surname'].unique()\n"
   ]
  },
  {
   "cell_type": "code",
   "execution_count": null,
   "metadata": {},
   "outputs": [],
   "source": [
    "#list(df.columns)"
   ]
  },
  {
   "cell_type": "code",
   "execution_count": null,
   "metadata": {},
   "outputs": [],
   "source": [
    "#df.info(verbose=True)"
   ]
  },
  {
   "cell_type": "code",
   "execution_count": null,
   "metadata": {},
   "outputs": [],
   "source": [
    "#df.describe()"
   ]
  },
  {
   "cell_type": "code",
   "execution_count": null,
   "metadata": {},
   "outputs": [],
   "source": [
    "# Checking the null values\n",
    "#df.isnull().sum()"
   ]
  },
  {
   "cell_type": "markdown",
   "metadata": {},
   "source": [
    "#### Basic Data Cleaning and handling Missing values"
   ]
  },
  {
   "cell_type": "code",
   "execution_count": null,
   "metadata": {},
   "outputs": [],
   "source": [
    "#dropping columns to clean the data\n",
    "column = [ 'Competition Id','Competition Name','Game Date',\n",
    "           'Game_period_1_start','Game_period_2_start','Season Id','Season Name',\n",
    "           'event_id','type_id','TypeName','TypeDescription']\n",
    "\n",
    "df = df.drop(column,axis=1)"
   ]
  },
  {
   "cell_type": "code",
   "execution_count": null,
   "metadata": {},
   "outputs": [],
   "source": [
    "# since these values are less than 1% , chose to drop them\n",
    "df = df.dropna(subset=['detailed_position'],axis=0)\n",
    "\n",
    "# Filling all the NaN in the forename column with an empty string and creating a nre column with name\n",
    "df['Player Forename']= df['Player Forename'].fillna(\"\")\n",
    "df['name']= df['Player Forename']+\" \"+ df['Player Surname']\n",
    "df = df.drop(['Player Forename','Player Surname'], axis=1) "
   ]
  },
  {
   "cell_type": "code",
   "execution_count": null,
   "metadata": {},
   "outputs": [],
   "source": [
    "# since id is unique, setting up it as the index\n",
    "df=df.set_index('id')"
   ]
  },
  {
   "cell_type": "code",
   "execution_count": null,
   "metadata": {},
   "outputs": [],
   "source": [
    "#scaling the data as per the pitch dimensions\n",
    "def pitch_scale_x(x):\n",
    "    return x*1.3\n",
    "\n",
    "def pitch_scale_y(y):\n",
    "    return y*0.9"
   ]
  },
  {
   "cell_type": "code",
   "execution_count": null,
   "metadata": {},
   "outputs": [],
   "source": [
    "# Scaling the pitch\n",
    "df['x'] = df['x'].apply(pitch_scale_x)\n",
    "df['y'] = df['y'].apply(pitch_scale_x)\n",
    "df['Pass End X'] = df['Pass End X'].apply(pitch_scale_x)\n",
    "df['Pass End Y'] = df['Pass End Y'].apply(pitch_scale_x)"
   ]
  },
  {
   "cell_type": "code",
   "execution_count": null,
   "metadata": {},
   "outputs": [],
   "source": [
    "#finding the matches played by each player to normalize the data as per match and then multiplying\n",
    "#90 min to make it per 90\n",
    "\n",
    "#creating dictionary of unique players\n",
    "players = list(df['name'].unique())\n",
    "matches = {}\n",
    "for i in players:\n",
    "    df_player = df[df['name']==i]\n",
    "    matches[i]= df_player['Game_id'].nunique()\n",
    "   "
   ]
  },
  {
   "cell_type": "code",
   "execution_count": null,
   "metadata": {},
   "outputs": [],
   "source": [
    "# Matches played by each player and mapping it to the player name, setting the index\n",
    "df_matches = pd.DataFrame(matches, index=[0])\n",
    "df_matches = df_matches.T\n",
    "df_matches = df_matches.reset_index()\n",
    "df_matches.columns = ['name','matches']\n",
    "#df_matches \n"
   ]
  },
  {
   "cell_type": "markdown",
   "metadata": {},
   "source": [
    "#### Keeping all the functions at one place\n"
   ]
  },
  {
   "cell_type": "code",
   "execution_count": null,
   "metadata": {},
   "outputs": [],
   "source": [
    "# for passing length\n",
    "def pass_len(x):\n",
    "    if x <40:\n",
    "        return 'short'\n",
    "    else:\n",
    "        return 'Long'\n",
    "    \n",
    "    \n",
    "# for passing outcome   \n",
    "def pass_outcome(x):\n",
    "    if x == 0:\n",
    "        return 'Fail'\n",
    "    else:\n",
    "        return 'success'\n",
    "    \n",
    "# for passing direction    \n",
    "def pass_dir(x):\n",
    "    if (x <45)|(x>315):\n",
    "        return 'Forward pass' \n",
    "    elif (x>=90) & (x<270):\n",
    "        return 'backward pass'\n",
    "    else:\n",
    "        return 'side ways'\n",
    "    \n",
    "\n",
    "# convertind radian into degree    \n",
    "def degree(x):\n",
    "    return x*57.2958"
   ]
  },
  {
   "cell_type": "markdown",
   "metadata": {},
   "source": [
    "#### Manipulating for passing "
   ]
  },
  {
   "cell_type": "code",
   "execution_count": null,
   "metadata": {},
   "outputs": [],
   "source": [
    "# Categorzing if its a long ball or short pass, limit kept is 40m here\n",
    "df['pass type'] = df['Length'].apply(pass_len)\n",
    "\n",
    "# Categorzing If the pass was successfull or not\n",
    "df['outcome'] = df['outcome'].apply(pass_outcome)\n",
    "\n",
    "# Converting the angle to increase readability\n",
    "df.loc[:,'Angle'] =df.loc[:,'Angle'].apply(degree)\n",
    "\n",
    "# Categorizing the direction of the pass; forward, backward, sideways\n",
    "df.loc[:,'Pass direction']= df.loc[:,'Angle'].apply(pass_dir)"
   ]
  },
  {
   "cell_type": "markdown",
   "metadata": {},
   "source": [
    "## Inspecting the player to be analysed \n",
    "\n"
   ]
  },
  {
   "cell_type": "code",
   "execution_count": null,
   "metadata": {},
   "outputs": [],
   "source": [
    "df_keane = df[df['name']=='Michael Keane']\n",
    "df_chris = df[df['name']=='Andreas Christensen']\n",
    "df_kurt = df[df['name']=='Kurt Zouma']\n",
    "df_gomez = df[df['name']=='Joseph Gomez']\n",
    "df_laporte = df[df['name']=='Aymeric Laporte']\n",
    "df_lindelof = df[df['name']=='Victor Lindelöf']\n",
    "df_sanchez = df[df['name']=='Davinson Sánchez']\n",
    "df_ake = df[df['name']=='Nathan Aké']\n",
    "df_mina = df[df['name']=='Yerry Mina']\n",
    "df_holgate = df[df['name']=='Mason Holgate']\n",
    "df_Jagielka = df[df['name']=='Phil Jagielka']\n",
    "df_koch = df[df['name']=='Robin Koch']\n",
    "df_light = df[df['name']=='Matthijs de Ligt']\n",
    " \n",
    " "
   ]
  },
  {
   "cell_type": "markdown",
   "metadata": {},
   "source": [
    "### Data Manipulation\n",
    "The idea of creating dataframe is to breakdown the problem in small parts and look closely what is going on.\n",
    " 1. players  \n",
    " 2. events\n",
    " 3. descriptors\n",
    " 4. Possession\n",
    " 5. Passing Pattern\n",
    " 6. Match Data"
   ]
  },
  {
   "cell_type": "code",
   "execution_count": null,
   "metadata": {},
   "outputs": [],
   "source": [
    "# player\n",
    "cols_pl      = ['Game_id','Team','name','Position Id','detailed_position']\n",
    "\n",
    "# event descriptor\n",
    "cols_desc    = ['event_id','type_id', 'TypeName','TypeDescription',]\n",
    "\n",
    "# possession\n",
    "cols_pos     = ['Game_id','Team','Possession_id','MatchName','Flank Pass','Subbed on?','Subbed off?','Throw in',\n",
    "                'Own Goal','Goal Kick','Possession Sequence', 'Possession Amount','Time','Time of Possession',\n",
    "                'Seconds Between','End of Possession','Possession End with Shot','Lost Possession']\n",
    "\n",
    "#passing plotting\n",
    "cols_plot    = ['Game_id','Team','name','x','y','Pass End X','Pass End Y','Angle','Length','outcome',\n",
    "               'pass type','Pass direction']\n",
    "\n",
    "#shots \n",
    "cols_shot     = ['Game_id','Team','name','Key Pass','2nd Assist','Assist','Goal','Shot','Fast Break Shot']\n",
    "\n",
    "#defence\n",
    "cols_def     = [ 'Game_id','name', 'Defensive Duel', 'Attacking Duel', 'Interception', 'Successful Tackle',\n",
    "                 'Dispossessed/Tackled', 'Re`d','Yellow']\n",
    "\n",
    "#player profiling\n",
    "cols_profile = ['name','Matchday','Game_id','Pass Receiver Position_id','GK Shot Faced','Gk kick from hands','Keeper Throw',\n",
    "                'detailed_position','Mins Played' ,'Defensive Duel','Interception','Successful Tackle','Aerial Duel',\n",
    "                'Blocked Cross','Blocked A Shot','Tackle Attempt','Ball Recovery']  \n",
    "\n"
   ]
  },
  {
   "cell_type": "markdown",
   "metadata": {},
   "source": [
    "\n",
    "\n",
    "#### Creating Dataframe for each of the section"
   ]
  },
  {
   "cell_type": "code",
   "execution_count": null,
   "metadata": {},
   "outputs": [],
   "source": [
    "\n",
    "#creating pass data for description\n",
    "describe = df.filter(cols_desc,axis=1)\n",
    "\n",
    "# Creating player profile\n",
    "player = df.filter(cols_pl, axis=1)\n",
    "\n",
    "#creating possesion profile\n",
    "possession = df.filter(cols_pos,axis=1)\n",
    "\n",
    "#creating pass data for plotting\n",
    "pass_plot = df.filter(cols_plot,axis=1)\n",
    " \n",
    "#creating pass data for shots\n",
    "events = df.filter(cols_shot,axis=1)\n",
    "\n",
    "#creating pass data for defence\n",
    "defence = df.filter(cols_def,axis=1)\n",
    "\n",
    "#creating player profile\n",
    "profile = df.filter(cols_profile,axis=1)"
   ]
  },
  {
   "cell_type": "markdown",
   "metadata": {},
   "source": [
    "#### Creating Dataframe for pass plotting"
   ]
  },
  {
   "cell_type": "code",
   "execution_count": null,
   "metadata": {},
   "outputs": [],
   "source": [
    "#pass plotting for multiple players\n",
    "df_keane_plot = df_keane.filter(pass_plot,axis=1).dropna()\n",
    "df_kurt_plot = df_kurt.filter(pass_plot,axis=1).dropna()\n",
    "df_chris_plot = df_chris.filter(pass_plot,axis=1).dropna()\n",
    "df_gomez_plot = df_gomez.filter(pass_plot,axis=1).dropna()\n",
    "df_laporte_plot = df_laporte.filter(pass_plot,axis=1).dropna()\n",
    "df_lindelof_plot = df_lindelof.filter(pass_plot,axis=1).dropna()\n",
    "df_sanchez_plot = df_sanchez.filter(pass_plot,axis=1).dropna()\n",
    "df_ake_plot = df_ake.filter(pass_plot,axis=1).dropna() \n",
    "df_mina_plot = df_mina.filter(pass_plot,axis=1).dropna() \n",
    "df_holgate_plot = df_holgate.filter(pass_plot,axis=1).dropna() \n",
    "df_Jagielka_plot = df_Jagielka.filter(pass_plot,axis=1).dropna() \n",
    "df_koch_plot = df_koch.filter(pass_plot,axis=1).dropna()  \n",
    "df_light_plot = df_light.filter(pass_plot,axis=1).dropna()  \n",
    " \n",
    " "
   ]
  },
  {
   "cell_type": "markdown",
   "metadata": {},
   "source": [
    "\n",
    "\n",
    "#### Creating Dataframe for profiling of each player"
   ]
  },
  {
   "cell_type": "code",
   "execution_count": null,
   "metadata": {},
   "outputs": [],
   "source": [
    "df_keane_profile = df_keane.filter(profile,axis=1) \n",
    "df_kurt_profile = df_kurt.filter(profile,axis=1) \n",
    "df_chris_profile = df_chris.filter(profile,axis=1) \n",
    "df_gomez_profile = df_gomez.filter(profile,axis=1) \n",
    "df_laporte_profile = df_laporte.filter(profile,axis=1) \n",
    "df_lindelof_profile = df_lindelof.filter(profile,axis=1) \n",
    "df_sanchez_profile = df_sanchez.filter(profile,axis=1) \n",
    "df_ake_profile = df_ake.filter(profile,axis=1).dropna() \n",
    "df_mina_profile = df_mina.filter(profile,axis=1).dropna() \n",
    "df_holgate_profile = df_holgate.filter(profile,axis=1)\n",
    "df_Jagielka_profile = df_Jagielka.filter(profile,axis=1) \n",
    "df_koch_profile = df_koch.filter(profile,axis=1)\n",
    "df_light_profile = df_light.filter(profile,axis=1) \n",
    " "
   ]
  },
  {
   "cell_type": "code",
   "execution_count": null,
   "metadata": {},
   "outputs": [],
   "source": [
    "#creating xl file to generate visualisation in Tableau\n",
    "keane = pd.concat([df_keane_plot],axis=0)\n",
    "keane.to_excel('/Users/devanshchawla/Desktop/Data_sciene resume/keane.xlsx',index=False)"
   ]
  },
  {
   "cell_type": "markdown",
   "metadata": {},
   "source": [
    "#### Creating Profiles for all the players across the season\n",
    "Each attributes is alloted a score based on the wieghted mean to compete the score. This is done to give the relative importance to each attribute \n",
    "1. Defensive Duel\t -  10.0\n",
    "2. Interception\t     -  9.3\n",
    "3. Successful Tackle -  10.0\n",
    "4. Aerial Duel\t     -  8.7\n",
    "5. Blocked Cross\t -  6.0\n",
    "6. Blocked A Shot\t -  7.7\n",
    "7. Tackle Attempt\t -  7.3\n",
    "8. Ball Recovered\t -  7.7"
   ]
  },
  {
   "cell_type": "code",
   "execution_count": null,
   "metadata": {},
   "outputs": [],
   "source": [
    "#Creating the profile with the attributes important to defenders\n",
    "df_profile = df.filter(cols_profile,axis=1)"
   ]
  },
  {
   "cell_type": "code",
   "execution_count": null,
   "metadata": {},
   "outputs": [],
   "source": [
    "# choosing only Central Defender\n",
    "df_profile_cd = df_profile[df_profile['detailed_position']=='Central Defender']"
   ]
  },
  {
   "cell_type": "code",
   "execution_count": null,
   "metadata": {},
   "outputs": [],
   "source": [
    "# grouping the data on player name to make each row of 1 single player\n",
    "cols = ['Matchday','Game_id','Pass Receiver Position_id','GK Shot Faced','Gk kick from hands','Keeper Throw','Mins Played']\n",
    "cols2 = ['Matchday','Game_id','Pass Receiver Position_id','GK Shot Faced','Gk kick from hands','Keeper Throw']\n",
    "\n",
    "# dropping certain columns which are less-relevant to a Central defender\n",
    "df_profile = df_profile_cd.groupby(['name'],as_index=False).sum().drop(cols,axis=1)\n",
    "\n",
    "# Creating a average minute column to map to each player\n",
    "df_minutes = df_profile_cd.groupby(['name'],as_index=False).mean().drop(cols2,axis=1)\n",
    "\n",
    "# filtering the minutes\n",
    "df_minutes = df_minutes.filter(['Mins Played'],axis=1)\n",
    "\n",
    "#Concatening the two dataframe to make 1 dataframe\n",
    "df_profile = pd.concat([df_profile,df_minutes],axis=1)\n",
    "\n",
    "df_profile = df_profile.merge(df_matches, left_on='name', right_on='name')\n",
    "df_profile['score'] =df_profile['Defensive Duel']*10.0 + df_profile['Interception']*9.3 + df_profile['Successful Tackle']*10+df_profile['Aerial Duel']*8.7 + df_profile['Blocked Cross']*6.0 + df_profile['Blocked A Shot']*7.7+ df_profile['Tackle Attempt']*7.3+ df_profile['Ball Recovery']*7.7     \n",
    "\n",
    "df_profile"
   ]
  },
  {
   "cell_type": "code",
   "execution_count": null,
   "metadata": {},
   "outputs": [],
   "source": [
    "#since not every player has same number of match we need to map this with per match stats per 90 minutes\n",
    "df_profile['Tackle Attempt']=((df_profile['Tackle Attempt']/df_profile['Mins Played'])*90)/df_profile['matches']\n",
    "df_profile['Defensive Duel']=((df_profile['Defensive Duel']/df_profile['Mins Played'])*90)/df_profile['matches']\n",
    "df_profile['Interception']=((df_profile['Interception']/df_profile['Mins Played'])*90)/df_profile['matches']\n",
    "df_profile['Successful Tackle']=((df_profile['Successful Tackle']/df_profile['Mins Played'])*90)/df_profile['matches']\n",
    "df_profile['Aerial Duel']=((df_profile['Aerial Duel']/df_profile['Mins Played'])*90)/df_profile['matches']\n",
    "df_profile['Blocked Cross']=((df_profile['Blocked Cross']/df_profile['Mins Played'])*90)/df_profile['matches']\n",
    "df_profile['Blocked A Shot']=((df_profile['Blocked A Shot']/df_profile['Mins Played'])*90)/df_profile['matches']\n",
    "df_profile['Ball Recovery']=((df_profile['Ball Recovery']/df_profile['Mins Played'])*90)/df_profile['matches']\n",
    " "
   ]
  },
  {
   "cell_type": "code",
   "execution_count": null,
   "metadata": {},
   "outputs": [],
   "source": [
    "#creating xl file to generate visualisation in Tableau\n",
    "keane = pd.concat([df_profile],axis=0)\n",
    "keane.to_excel('/Users/devanshchawla/Desktop/Data_sciene resume/cluster.xlsx',index=False)"
   ]
  },
  {
   "cell_type": "markdown",
   "metadata": {},
   "source": [
    "# Data Modelling"
   ]
  },
  {
   "cell_type": "markdown",
   "metadata": {},
   "source": [
    "### 1. Scoring Model\n",
    "Each attributes is alloted a score based on the wieghted mean to compete the score. This is done to give the relative importance to each attribute \n"
   ]
  },
  {
   "cell_type": "code",
   "execution_count": null,
   "metadata": {},
   "outputs": [],
   "source": [
    "# Calculating score for each player\n",
    "df_profile['score'] =df_profile['Defensive Duel']*10.0 + df_profile['Interception']*9.3 + df_profile['Successful Tackle']*10+df_profile['Aerial Duel']*8.7 + df_profile['Blocked Cross']*6.0 + df_profile['Blocked A Shot']*7.7+ df_profile['Tackle Attempt']*7.3+ df_profile['Ball Recovery']*7.7     \n",
    "\n"
   ]
  },
  {
   "cell_type": "code",
   "execution_count": null,
   "metadata": {},
   "outputs": [],
   "source": [
    "df_profile"
   ]
  },
  {
   "cell_type": "markdown",
   "metadata": {},
   "source": [
    "### 2. Cosine Similarity\n",
    "- The model being used here is Cosine similarity which measure of similarity between two non-zero vectors of an inner product space that measures the cosine of the angle between them. The cosine of 0° is 1, and it is less than 1 for any angle in the interval (0,π] radians. So each player is considered is a vector here and similarity is term reported in terms of cosine value"
   ]
  },
  {
   "cell_type": "code",
   "execution_count": null,
   "metadata": {},
   "outputs": [],
   "source": [
    "#creating for micheal keeane\n",
    "df_test_1 = df_profile[ df_profile['name']=='Michael Keane'] \n",
    "#removing the player from the main list to avoid self mapping\n",
    "df_def_1 = df_profile[ df_profile['name']!='Michael Keane'] \n",
    "df_def_1= df_def_1.reset_index(drop=True)\n",
    "#display(df_test_1)\n",
    "#display(df_def_1)\n",
    "\n"
   ]
  },
  {
   "cell_type": "code",
   "execution_count": null,
   "metadata": {},
   "outputs": [],
   "source": [
    "# cosine similarity of the defenders and the Keane\n",
    "u = cosine_similarity((df_test_1.drop(['name','Mins Played','matches'],axis=1)),(df_def_1.drop(['name','Mins Played','matches'],axis=1)))\n",
    "u1 = list(u.shape)\n",
    "u = u.reshape(u1[1],1)\n",
    "df_cos = pd.DataFrame(u)\n",
    "\n"
   ]
  },
  {
   "cell_type": "code",
   "execution_count": null,
   "metadata": {},
   "outputs": [],
   "source": [
    "#concating the player's name and the cosine similarity value\n",
    "df_cos_name1 = pd.concat([df_def_1['name'],df_cos], axis=1)\n",
    "\n",
    "#renaming the column\n",
    "df_cos_name1.columns = ['name','cos']\n",
    "\n",
    "#taking out the row for the maximum cosine value\n",
    "df_cos_name1=df_cos_name1.sort_values(by='cos',ascending=False)\n",
    "df_cos_name1\n"
   ]
  },
  {
   "cell_type": "code",
   "execution_count": null,
   "metadata": {},
   "outputs": [],
   "source": [
    "# Eucleidean distance, we have normalize the data for better results as distance depends on the magnitude in the \n",
    "# dimension\n",
    "e = euclidean_distances(normalize(df_test_1.drop(['name','Mins Played','matches'],axis=1)),normalize(df_def_1.drop(['name','Mins Played','matches'],axis=1)))\n",
    "u1 = list(e.shape)\n",
    "e = e.reshape(u1[1],1)\n",
    "df_eu = pd.DataFrame(e)"
   ]
  },
  {
   "cell_type": "code",
   "execution_count": null,
   "metadata": {},
   "outputs": [],
   "source": [
    "df_cos_name3 = pd.concat([df_def_1['name'],df_eu], axis=1)\n",
    "\n",
    "#renaming the column\n",
    "df_cos_name3.columns = ['name','dist']\n",
    "\n",
    "#taking out the row for the maximum cosine value\n",
    "df_cos_name3=df_cos_name3.sort_values(by='dist',ascending=True)\n",
    "df_cos_name3"
   ]
  },
  {
   "cell_type": "markdown",
   "metadata": {},
   "source": [
    "### 3. Kmeans Clustering\n"
   ]
  },
  {
   "cell_type": "code",
   "execution_count": null,
   "metadata": {},
   "outputs": [],
   "source": [
    "df_profile  "
   ]
  },
  {
   "cell_type": "code",
   "execution_count": null,
   "metadata": {},
   "outputs": [],
   "source": [
    "X = df_profile.drop(['name','matches','score','Mins Played'],axis=1).values"
   ]
  },
  {
   "cell_type": "code",
   "execution_count": null,
   "metadata": {},
   "outputs": [],
   "source": [
    "#scaler object creation\n",
    "scaler = MinMaxScaler()\n",
    "\n",
    "# transforming the data as the distance depends on the magnitude \n",
    "X_scaled = scaler.fit_transform(X)\n",
    "\n"
   ]
  },
  {
   "cell_type": "code",
   "execution_count": null,
   "metadata": {},
   "outputs": [],
   "source": [
    "distortions = []\n",
    "K = range(1,10)\n",
    "for k in K:\n",
    "    kmeanModel = KMeans(n_clusters=k).fit(X_scaled)\n",
    "    kmeanModel.fit(X_scaled)\n",
    "    distortions.append(sum(np.min(cdist(X_scaled, kmeanModel.cluster_centers_, 'euclidean'), axis=1)) / X_scaled.shape[0])\n",
    "\n",
    "# Plot the elbow\n",
    "plt.plot(K, distortions, 'bx-')\n",
    "plt.xlabel('k')\n",
    "plt.ylabel('Distortion')\n",
    "plt.title('The Elbow Method showing the optimal k')\n",
    "plt.show()"
   ]
  },
  {
   "cell_type": "code",
   "execution_count": null,
   "metadata": {},
   "outputs": [],
   "source": [
    "# applying kmeans here creating 4 cluster\n",
    "# 4 is chosen as the elbow point here\n",
    "\n",
    "# Creating the object\n",
    "kmeans = KMeans(n_clusters=3)\n",
    "\n",
    "#fitting on the data\n",
    "kmeans.fit(X_scaled)\n",
    "\n",
    "#predincting on the training set\n",
    "y_kmeans = kmeans.predict(X_scaled)"
   ]
  },
  {
   "cell_type": "code",
   "execution_count": null,
   "metadata": {},
   "outputs": [],
   "source": [
    "# Plotting the scatter for scaled data. this is done before PCA\n",
    "plt.scatter(X_scaled[:, 0], X_scaled[:, 1], c=y_kmeans, s=50, cmap='viridis')\n",
    "\n",
    "# creating centres to plot\n",
    "centers = kmeans.cluster_centers_\n",
    "\n",
    "#plotting the centre\n",
    "plt.scatter(centers[:, 0], centers[:, 1], c='red', s=200);\n",
    "\n",
    "# adding title\n",
    "plt.title('Kmeans(before PCA)')\n",
    " "
   ]
  },
  {
   "cell_type": "code",
   "execution_count": null,
   "metadata": {},
   "outputs": [],
   "source": [
    "# here we are implementing PCA to reduce dimensionallity for better visualization and understanding\n",
    "from sklearn.decomposition import PCA\n",
    "\n",
    "# 2 dimension creating for X-Y plot\n",
    "pca = PCA(n_components=2).fit(X)\n",
    "\n",
    "# transforming the X using PCA\n",
    "pca_2d = pca.transform(X) "
   ]
  },
  {
   "cell_type": "code",
   "execution_count": null,
   "metadata": {},
   "outputs": [],
   "source": [
    "# Creating the object\n",
    "kmeans = KMeans(n_clusters=3)\n",
    "\n",
    "#fitting on the data\n",
    "kmeans.fit(pca_2d)\n",
    "\n",
    "#predincting on the reduced dimension X-Y\n",
    "y_kmeans = kmeans.predict(pca_2d)"
   ]
  },
  {
   "cell_type": "code",
   "execution_count": null,
   "metadata": {},
   "outputs": [],
   "source": [
    "plt.scatter(pca_2d[:, 0], pca_2d[:, 1], c=y_kmeans, s=50, cmap='viridis')\n",
    "\n",
    "centers = kmeans.cluster_centers_\n",
    "plt.scatter(centers[:, 0], centers[:, 1], c='red', s=200);\n",
    "            \n",
    "plt.title('Kmeans(After PCA)')\n",
    "                "
   ]
  },
  {
   "cell_type": "markdown",
   "metadata": {},
   "source": [
    "# Data Analysis"
   ]
  },
  {
   "cell_type": "markdown",
   "metadata": {},
   "source": [
    "## Analysis - Part 1 : Passing and depth Heatmap"
   ]
  },
  {
   "cell_type": "code",
   "execution_count": null,
   "metadata": {},
   "outputs": [],
   "source": [
    "#Draw pitch function\n",
    "def draw_pitch():\n",
    "    #Create figure\n",
    "    fig=plt.figure()\n",
    "    fig.set_size_inches(7, 5)\n",
    "    ax=fig.add_subplot(1,1,1)\n",
    "\n",
    "    #Pitch Outline & Centre Line\n",
    "    plt.plot([0,0],[0,90], color=\"black\")\n",
    "    plt.plot([0,130],[90,90], color=\"black\")\n",
    "    plt.plot([130,130],[90,0], color=\"black\")\n",
    "    plt.plot([130,0],[0,0], color=\"black\")\n",
    "    plt.plot([65,65],[0,90], color=\"black\")\n",
    "\n",
    "    #Left Penalty Area\n",
    "    plt.plot([16.5,16.5],[65,25],color=\"black\")\n",
    "    plt.plot([0,16.5],[65,65],color=\"black\")\n",
    "    plt.plot([16.5,0],[25,25],color=\"black\")\n",
    "\n",
    "    #Right Penalty Area\n",
    "    plt.plot([130,113.5],[65,65],color=\"black\")\n",
    "    plt.plot([113.5,113.5],[65,25],color=\"black\")\n",
    "    plt.plot([113.5,130],[25,25],color=\"black\")\n",
    "\n",
    "    #Left 6-yard Box\n",
    "    plt.plot([0,5.5],[54,54],color=\"black\")\n",
    "    plt.plot([5.5,5.5],[54,36],color=\"black\")\n",
    "    plt.plot([5.5,0.5],[36,36],color=\"black\")\n",
    "\n",
    "    #Right 6-yard Box\n",
    "    plt.plot([130,124.5],[54,54],color=\"black\")\n",
    "    plt.plot([124.5,124.5],[54,36],color=\"black\")\n",
    "    plt.plot([124.5,130],[36,36],color=\"black\")\n",
    "\n",
    "    #Prepare Circles\n",
    "    centreCircle = plt.Circle((65,45),9.15,color=\"black\",fill=False)\n",
    "    centreSpot = plt.Circle((65,45),0.8,color=\"black\")\n",
    "    leftPenSpot = plt.Circle((11,45),0.8,color=\"black\")\n",
    "    rightPenSpot = plt.Circle((119,45),0.8,color=\"black\")\n",
    "\n",
    "    #Draw Circles\n",
    "    ax.add_patch(centreCircle)\n",
    "    ax.add_patch(centreSpot)\n",
    "    ax.add_patch(leftPenSpot)\n",
    "    ax.add_patch(rightPenSpot)\n",
    "\n",
    "    #Prepare Arcs\n",
    "    leftArc = Arc((11,45),height=18.3,width=18.3,angle=0,theta1=310,theta2=50,color=\"black\")\n",
    "    rightArc = Arc((119,45),height=18.3,width=18.3,angle=0,theta1=130,theta2=230,color=\"black\")\n",
    "\n",
    "    #Draw Arcs\n",
    "    ax.add_patch(leftArc)\n",
    "    ax.add_patch(rightArc)\n",
    "    \n",
    "    \n",
    "    #Tidy Axes\n",
    "    plt.axis('off')\n"
   ]
  },
  {
   "cell_type": "markdown",
   "metadata": {},
   "source": [
    "#### Joe Gomez"
   ]
  },
  {
   "cell_type": "code",
   "execution_count": null,
   "metadata": {},
   "outputs": [],
   "source": [
    "# Successful passing heatmap\n",
    "\n",
    "draw_pitch()\n",
    "#sucess\n",
    "gomez_succes = df_gomez_plot[df_gomez_plot['outcome']=='success']\n",
    "sns.kdeplot(gomez_succes['Pass End X'],gomez_succes['Pass End Y'], shade=True,n_levels=50)\n",
    "\n",
    "\n",
    "plt.ylim(0, 90)\n",
    "plt.xlim(0, 130)\n",
    "\n",
    "#Display Pitch\n",
    "plt.show()"
   ]
  },
  {
   "cell_type": "markdown",
   "metadata": {},
   "source": [
    "#### Aymeric Laporte"
   ]
  },
  {
   "cell_type": "code",
   "execution_count": null,
   "metadata": {},
   "outputs": [],
   "source": [
    "# Successful passing heatmap\n",
    "\n",
    "draw_pitch()\n",
    "\n",
    "#sucess\n",
    "laporte_succes = df_laporte_plot[df_laporte_plot['outcome']=='success']\n",
    "ax = sns.kdeplot(laporte_succes['Pass End X'],laporte_succes['Pass End Y'], shade=True,n_levels=50)\n",
    "\n",
    "plt.title('Laporte(Successful Passes)')\n",
    "fig = ax.get_figure()\n",
    "fig.savefig('laporte.png')\n",
    "\n",
    "\n",
    "plt.ylim(0, 90)\n",
    "plt.xlim(0, 130)\n",
    "\n",
    "\n",
    "#Display Pitch\n",
    "plt.show()"
   ]
  },
  {
   "cell_type": "markdown",
   "metadata": {},
   "source": [
    "#### Kurt Gumoz"
   ]
  },
  {
   "cell_type": "code",
   "execution_count": null,
   "metadata": {},
   "outputs": [],
   "source": [
    "# Successful passing heatmap\n",
    "\n",
    "draw_pitch()\n",
    "\n",
    "kurt_succes = df_kurt_plot[df_kurt_plot['outcome']=='success']\n",
    "ax=sns.kdeplot(kurt_succes['Pass End X'],kurt_succes['Pass End Y'], shade=True,n_levels=50)\n",
    "\n",
    "plt.title('Kurt Gumoz(Successful Passes)')\n",
    "fig = ax.get_figure()\n",
    "fig.savefig('Kurt.png')\n",
    "\n",
    "\n",
    "plt.ylim(0, 90)\n",
    "plt.xlim(0, 130)\n",
    "\n",
    "\n",
    "#Display Pitch\n",
    "plt.show()"
   ]
  },
  {
   "cell_type": "code",
   "execution_count": null,
   "metadata": {},
   "outputs": [],
   "source": [
    "#depth\n",
    "\n",
    "draw_pitch()\n",
    " \n",
    "    \n",
    "ax=sns.kdeplot(df_kurt_plot['x'],df_kurt_plot['y'], shade=True,n_levels=50)\n",
    "\n",
    "plt.title('Kurt Gumoz(Depth)')\n",
    "fig = ax.get_figure()\n",
    "fig.savefig('Kurt_d.png')\n",
    "\n",
    "\n",
    "plt.ylim(0, 90)\n",
    "plt.xlim(0, 130)\n",
    "\n",
    "\n",
    "#Display Pitch\n",
    "plt.show()"
   ]
  },
  {
   "cell_type": "code",
   "execution_count": null,
   "metadata": {
    "scrolled": true
   },
   "outputs": [],
   "source": [
    "# Successful passing heatmap\n",
    "\n",
    "draw_pitch()\n",
    "\n",
    "\n",
    "#sucess\n",
    "keane_succes = df_keane_plot[df_keane_plot['outcome']=='success']\n",
    "ax = sns.kdeplot(keane_succes['Pass End X'],keane_succes['Pass End Y'], shade=True,n_levels=50)\n",
    "\n",
    "\n",
    "plt.ylim(0, 90)\n",
    "plt.xlim(0, 130)\n",
    "\n",
    "\n",
    "#Display Pitch\n",
    "plt.show()\n",
    "\n",
    "#adding title\n",
    "plt.title('Michael Keane(Successful Passes)')\n",
    "\n",
    "fig = ax.get_figure()\n",
    "fig.savefig('keane1.png')"
   ]
  },
  {
   "cell_type": "code",
   "execution_count": null,
   "metadata": {},
   "outputs": [],
   "source": [
    "# Unsuccessful passing heatmap\n",
    "\n",
    "draw_pitch()\n",
    "\n",
    "#adding title\n",
    "plt.title('Michael Keane(Unsuccessful Passes)')\n",
    "\n",
    "fig = ax.get_figure()\n",
    "fig.savefig('keane_un.png')\n",
    "#sucess\n",
    "keane_un_succes = df_keane_plot[df_keane_plot['outcome']=='Fail']\n",
    "ax = sns.kdeplot(keane_un_succes['Pass End X'],keane_un_succes['Pass End Y'], shade=True,n_levels=50)\n",
    "\n",
    "\n",
    "plt.ylim(0, 90)\n",
    "plt.xlim(0, 130)\n",
    "\n",
    "\n",
    "#Display Pitch\n",
    "plt.show()\n"
   ]
  },
  {
   "cell_type": "code",
   "execution_count": null,
   "metadata": {},
   "outputs": [],
   "source": [
    "#depth\n",
    "\n",
    "draw_pitch()\n",
    "\n",
    "#adding title\n",
    "plt.title('Michael Keane(depth)')\n",
    "\n",
    "fig = ax.get_figure()\n",
    "fig.savefig('keane_location.png')\n",
    "#sucess\n",
    "ax = sns.kdeplot(df_keane_plot['x'],df_keane_plot['y'], shade=True,n_levels=50)\n",
    "\n",
    "\n",
    "plt.ylim(0, 90)\n",
    "plt.xlim(0, 130)\n",
    "\n",
    "\n",
    "#Display Pitch\n",
    "plt.show()\n"
   ]
  },
  {
   "cell_type": "code",
   "execution_count": null,
   "metadata": {},
   "outputs": [],
   "source": [
    "# Successful passing heatmap\n",
    "\n",
    "draw_pitch()\n",
    "\n",
    "#sucess\n",
    "mina_success = df_mina_plot[df_mina_plot['outcome']=='success']\n",
    "sns.kdeplot(mina_success['Pass End X'],mina_success['Pass End Y'], shade=True,n_levels=50)\n",
    "\n",
    "plt.title('Yerry Mina(Successful Passes)')\n",
    "fig = ax.get_figure()\n",
    "fig.savefig('Yerry.png')\n",
    "\n",
    "plt.ylim(0, 90)\n",
    "plt.xlim(0, 130)\n",
    "\n",
    "\n",
    "#Display Pitch\n",
    "plt.show()\n",
    " "
   ]
  },
  {
   "cell_type": "code",
   "execution_count": null,
   "metadata": {},
   "outputs": [],
   "source": [
    "#depth\n",
    "\n",
    "draw_pitch()\n",
    "\n",
    "#sucess\n",
    "sns.kdeplot(df_mina_plot['x'],df_mina_plot['y'], shade=True,n_levels=50)\n",
    "\n",
    "plt.title('Yerry Mina(depth)')\n",
    "fig = ax.get_figure()\n",
    "fig.savefig('Yerry_d.png')\n",
    "\n",
    "plt.ylim(0, 90)\n",
    "plt.xlim(0, 130)\n",
    "\n",
    "\n",
    "#Display Pitch\n",
    "plt.show()\n",
    " "
   ]
  },
  {
   "cell_type": "code",
   "execution_count": null,
   "metadata": {},
   "outputs": [],
   "source": [
    "#depth\n",
    "\n",
    "draw_pitch()\n",
    "\n",
    "#sucess\n",
    "sns.kdeplot(df_holgate_plot['x'],df_holgate_plot['y'], shade=True,n_levels=50)\n",
    "\n",
    "plt.title('Holgate(depth)')\n",
    "fig = ax.get_figure()\n",
    "fig.savefig('Holgate_1_d.png')\n",
    "\n",
    "plt.ylim(0, 90)\n",
    "plt.xlim(0, 130)\n",
    "\n",
    "\n",
    "#Display Pitch\n",
    "plt.show()\n",
    " "
   ]
  },
  {
   "cell_type": "code",
   "execution_count": null,
   "metadata": {},
   "outputs": [],
   "source": [
    "# Successful passing heatmap\n",
    "\n",
    "draw_pitch()\n",
    "\n",
    "#sucess\n",
    "holgate_sucess = df_holgate_plot[df_holgate_plot['outcome']=='success']\n",
    "sns.kdeplot(holgate_sucess['Pass End X'],holgate_sucess['Pass End Y'], shade=True,n_levels=50)\n",
    "\n",
    "plt.title('Holgate(Successful Passes)')\n",
    "fig = ax.get_figure()\n",
    "fig.savefig('hool.png')\n",
    "\n",
    "plt.ylim(0, 90)\n",
    "plt.xlim(0, 130)\n",
    "\n",
    "\n",
    "#Display Pitch\n",
    "plt.show()\n",
    " "
   ]
  },
  {
   "cell_type": "code",
   "execution_count": null,
   "metadata": {},
   "outputs": [],
   "source": [
    "# Successful passing heatmap\n",
    "\n",
    "draw_pitch()\n",
    "\n",
    "#sucess\n",
    "Jagielka_success= df_Jagielka_plot[df_Jagielka_plot['outcome']=='success']\n",
    "sns.kdeplot(Jagielka_success['Pass End X'],Jagielka_success['Pass End Y'], shade=True,n_levels=50)\n",
    "\n",
    "plt.title('Jageilka(Successful Passes)')\n",
    "fig = ax.get_figure()\n",
    "fig.savefig('jag.png')\n",
    "\n",
    "plt.ylim(0, 90)\n",
    "plt.xlim(0, 130)\n",
    "\n",
    "\n",
    "#Display Pitch\n",
    "plt.show()\n",
    " "
   ]
  },
  {
   "cell_type": "code",
   "execution_count": null,
   "metadata": {},
   "outputs": [],
   "source": [
    "# depth\n",
    "\n",
    "draw_pitch()\n",
    "\n",
    "#sucess\n",
    "sns.kdeplot(df_Jagielka_plot['x'],df_Jagielka_plot['y'], shade=True,n_levels=50)\n",
    "\n",
    "plt.title('Jagielka(depth)')\n",
    "fig = ax.get_figure()\n",
    "fig.savefig('Jagielka_d.png')\n",
    "\n",
    "plt.ylim(0, 90)\n",
    "plt.xlim(0, 130)\n",
    "\n",
    "\n",
    "#Display Pitch\n",
    "plt.show()\n",
    " "
   ]
  },
  {
   "cell_type": "markdown",
   "metadata": {},
   "source": [
    "#### Analyszing  5  players of everton\n",
    "\n",
    "players = 'Phil Jagielka', 'Michael Keane', 'Mason Holgate', 'Kurt Zouma', 'Yerry Mina'\n"
   ]
  },
  {
   "cell_type": "code",
   "execution_count": null,
   "metadata": {},
   "outputs": [],
   "source": [
    "df_def = pd.concat([df_kurt_plot,df_keane_plot,df_mina_plot,df_holgate_plot,df_Jagielka_plot,df_koch_plot,df_light_plot],axis=0)\n",
    "#df_def"
   ]
  },
  {
   "cell_type": "code",
   "execution_count": null,
   "metadata": {},
   "outputs": [],
   "source": [
    "# creating the number of passes in detail for each one\n",
    "\n",
    "#initialising for summation later\n",
    "kurt_sw = 0\n",
    "kurt_fd = 0\n",
    "kurt_bk = 0\n",
    "\n",
    "for i, row in df_def.iterrows():\n",
    "    if row['name']=='Kurt Zouma':\n",
    "        if row['Pass direction']=='side ways':\n",
    "            kurt_sw = kurt_sw + 1\n",
    "        elif row['Pass direction']=='Forward pass':\n",
    "            kurt_fd = kurt_fd + 1\n",
    "        if row['Pass direction']=='backward pass':\n",
    "            kurt_bk = kurt_bk + 1\n",
    "\n",
    "#creating a list\n",
    "l1 = ['Kurt Zouma',kurt_sw,kurt_fd,kurt_bk]\n",
    "\n",
    "\n",
    "\n",
    "holgate_sw = 0\n",
    "holgate_fd = 0\n",
    "holgate_bk = 0\n",
    "\n",
    "for i, row in df_def.iterrows():\n",
    "    if row['name']=='Mason Holgate':\n",
    "        if row['Pass direction']=='side ways':\n",
    "            holgate_sw = holgate_sw + 1\n",
    "        elif row['Pass direction']=='Forward pass':\n",
    "            holgate_fd = holgate_fd + 1\n",
    "        if row['Pass direction']=='backward pass':\n",
    "            holgate_bk = holgate_bk + 1\n",
    "\n",
    "l2 = ['Mason Holgate',holgate_sw,holgate_fd,holgate_bk]\n",
    "        \n",
    "Jagielka_sw = 0\n",
    "Jagielka_fd = 0\n",
    "Jagielka_bk = 0\n",
    "\n",
    "for i, row in df_def.iterrows():\n",
    "    if row['name']=='Phil Jagielka':\n",
    "        if row['Pass direction']=='side ways':\n",
    "            Jagielka_sw = Jagielka_sw + 1\n",
    "        elif row['Pass direction']=='Forward pass':\n",
    "            Jagielka_fd = Jagielka_fd + 1\n",
    "        if row['Pass direction']=='backward pass':\n",
    "            Jagielka_bk = Jagielka_bk + 1\n",
    "            \n",
    "l3 = ['Phil Jagielka',Jagielka_sw,Jagielka_fd,Jagielka_bk]\n",
    "\n",
    "            \n",
    "keane_sw = 0\n",
    "keane_fd = 0\n",
    "keane_bk = 0\n",
    "\n",
    "for i, row in df_def.iterrows():\n",
    "    if row['name']=='Michael Keane':\n",
    "        if row['Pass direction']=='side ways':\n",
    "            keane_sw = keane_sw + 1\n",
    "        elif row['Pass direction']=='Forward pass':\n",
    "            keane_fd = keane_fd + 1\n",
    "        if row['Pass direction']=='backward pass':\n",
    "            keane_bk = keane_bk + 1\n",
    "\n",
    "l4 = ['Michael Keane',keane_sw,keane_fd,keane_bk]\n",
    "\n",
    "koch_sw = 0\n",
    "koch_fd = 0\n",
    "koch_bk = 0\n",
    "\n",
    "for i, row in df_def.iterrows():\n",
    "    if row['name']=='Robin Koch':\n",
    "        if row['Pass direction']=='side ways':\n",
    "            koch_sw = koch_sw + 1\n",
    "        elif row['Pass direction']=='Forward pass':\n",
    "            koch_fd = koch_fd + 1\n",
    "        if row['Pass direction']=='backward pass':\n",
    "            koch_bk = koch_bk + 1\n",
    "\n",
    "l5 = ['Robin Koch',koch_sw,koch_fd,koch_bk]\n",
    "            \n",
    "light_sw = 0\n",
    "light_fd = 0\n",
    "light_bk = 0\n",
    "\n",
    "for i, row in df_def.iterrows():\n",
    "    if row['name']=='Matthijs de Ligt':\n",
    "        if row['Pass direction']=='side ways':\n",
    "            light_sw = light_sw + 1\n",
    "        elif row['Pass direction']=='Forward pass':\n",
    "            light_fd = light_fd + 1\n",
    "        if row['Pass direction']=='backward pass':\n",
    "            light_bk = light_bk + 1\n",
    "\n",
    "l6 = ['Matthijs de Ligt',light_sw,light_fd,light_bk]\n",
    "\n",
    "\n",
    "mina_sw = 0\n",
    "mina_fd = 0\n",
    "mina_bk = 0\n",
    "\n",
    "for i, row in df_def.iterrows():\n",
    "    if row['name']=='Yerry Mina':\n",
    "        if row['Pass direction']=='side ways':\n",
    "            mina_sw = kurt_sw + 1\n",
    "        elif row['Pass direction']=='Forward pass':\n",
    "            mina_fd = kurt_fd + 1\n",
    "        if row['Pass direction']=='backward pass':\n",
    "            mina_bk = kurt_bk + 1\n",
    "\n",
    "l7 = ['Yerry Mina',mina_sw,mina_fd,mina_bk]\n",
    "            "
   ]
  },
  {
   "cell_type": "code",
   "execution_count": null,
   "metadata": {},
   "outputs": [],
   "source": [
    "# creating a dataframe form the lists that are created above\n",
    "df_pas_ration = pd.DataFrame([l1,l2,l3,l4,l5,l6,l7])\n",
    "\n",
    "# column naming\n",
    "df_pas_ration.columns =[['name', 'sidways','forward','backward']]\n",
    "df_pas_ration"
   ]
  },
  {
   "cell_type": "code",
   "execution_count": null,
   "metadata": {},
   "outputs": [],
   "source": [
    "#check file name"
   ]
  },
  {
   "cell_type": "code",
   "execution_count": null,
   "metadata": {},
   "outputs": [],
   "source": [
    "# Creating the excel for visualization\n",
    "df_pas_ration.to_excel('/Users/devanshchawla/Desktop/Data_sciene resume/pass_ratio1.xlsx',index=False)"
   ]
  },
  {
   "cell_type": "markdown",
   "metadata": {},
   "source": [
    "## Analysis - Part 2  : Attributes Analysis"
   ]
  },
  {
   "cell_type": "markdown",
   "metadata": {},
   "source": [
    "\n",
    "1. Interceptions versus vs blocks\n",
    "2. Tackles vs blocks\n",
    "3. Interceptions versus vs recoveries\n",
    "4. Aerial Duels\n"
   ]
  },
  {
   "cell_type": "code",
   "execution_count": null,
   "metadata": {},
   "outputs": [],
   "source": [
    "# for 4 players of everton\n",
    "players =['Phil Jagielka', 'Michael Keane', 'Mason Holgate', 'Kurt Zouma', 'Yerry Mina']"
   ]
  },
  {
   "cell_type": "code",
   "execution_count": null,
   "metadata": {},
   "outputs": [],
   "source": [
    "# everton defender\n",
    "df_edf = df_profile[(df_profile['name']=='Phil Jagielka')|(df_profile['name']=='Michael Keane')|(df_profile['name']=='Mason Holgate')|(df_profile['name']=='Kurt Zouma')|(df_profile['name']=='Yerry Mina')]"
   ]
  },
  {
   "cell_type": "code",
   "execution_count": null,
   "metadata": {},
   "outputs": [],
   "source": [
    "df_edf"
   ]
  },
  {
   "cell_type": "code",
   "execution_count": null,
   "metadata": {},
   "outputs": [],
   "source": [
    "#creating xl file to generate visualisation in Tableau\n",
    "df_edf.to_excel('/Users/devanshchawla/Desktop/Data_sciene resume/def_edf.xlsx',index=False)"
   ]
  },
  {
   "cell_type": "code",
   "execution_count": null,
   "metadata": {},
   "outputs": [],
   "source": [
    "# correlation matrix for the attrubites\n",
    "corr = df_edf.drop(['name','Mins Played','matches','Ball Recovery'],axis=1).corr()\n",
    "\n",
    "# Generate a mask for the upper triangle\n",
    "mask = np.zeros_like(corr, dtype=np.bool)\n",
    "mask[np.triu_indices_from(mask)] = True\n",
    "\n",
    "# Set up the matplotlib figure\n",
    "f, ax = plt.subplots(figsize=(11, 9))\n",
    "\n",
    "# Generate a custom diverging colormap\n",
    "cmap = sns.diverging_palette(220, 10, as_cmap=True)\n",
    "\n",
    "# Draw the heatmap with the mask and correct aspect ratio\n",
    "sns.heatmap(corr, mask=mask, cmap=cmap, vmax=.3, center=0,\n",
    "            square=True, linewidths=.5, cbar_kws={\"shrink\": .5})\n",
    "\n",
    "plt.title('Everton defenders correlation')\n",
    "fig = ax.get_figure()\n",
    "fig.savefig('Ev_def.png')"
   ]
  },
  {
   "cell_type": "markdown",
   "metadata": {},
   "source": [
    "#### Relation between Intercpetions and Tackles\n"
   ]
  },
  {
   "cell_type": "code",
   "execution_count": null,
   "metadata": {},
   "outputs": [],
   "source": [
    "plt.figure(figsize=(6, 6))\n",
    "ax = sns.scatterplot(df_edf['Successful Tackle'], df_edf['Interception'],s=60, hue =df_edf['name'], legend='full')\n",
    "\n",
    "# adding title\n",
    "plt.title('Interception vs Tackle')\n",
    "fig = ax.get_figure()\n",
    "\n",
    "# Saving the figure\n",
    "fig.savefig('Int_vs_tackle.png')\n",
    "            \n",
    "                "
   ]
  },
  {
   "cell_type": "code",
   "execution_count": null,
   "metadata": {},
   "outputs": [],
   "source": [
    "df_edf.loc[:,'blocks'] = df_edf.loc[:,'Blocked Cross']+df_edf.loc[:,'Blocked A Shot']"
   ]
  },
  {
   "cell_type": "markdown",
   "metadata": {},
   "source": [
    "#### Relation between Intercpetions and Tackles\n"
   ]
  },
  {
   "cell_type": "code",
   "execution_count": null,
   "metadata": {},
   "outputs": [],
   "source": [
    "ax = sns.scatterplot(df_edf['Successful Tackle'], df_edf['blocks'],s=60, hue =df_edf['name'],legend='brief')\n",
    "\n",
    "# adding title\n",
    "plt.title('Blocks vs Tackle')\n",
    "\n",
    "fig = ax.get_figure()\n",
    "\n",
    "# Saving the figure\n",
    "fig.savefig('blocks_vs_tackle.png')\n",
    "            "
   ]
  },
  {
   "cell_type": "markdown",
   "metadata": {},
   "source": [
    "#### Relation between Intercpetions and blocks"
   ]
  },
  {
   "cell_type": "code",
   "execution_count": null,
   "metadata": {},
   "outputs": [],
   "source": [
    "ax = sns.scatterplot(df_edf['blocks'], df_edf['Interception'],s=60, hue =df_edf['name'], legend='brief')\n",
    "# adding title\n",
    "plt.title('Interception vs blocks')\n",
    "fig = ax.get_figure()\n",
    "\n",
    "#saving the figure\n",
    "fig.savefig('Int_vs_blocks.png')\n",
    "            "
   ]
  },
  {
   "cell_type": "markdown",
   "metadata": {},
   "source": [
    "#### Bar plot for inteceptions of 5 players"
   ]
  },
  {
   "cell_type": "code",
   "execution_count": null,
   "metadata": {},
   "outputs": [],
   "source": [
    "ax = sns.barplot(x ='name',y=\"Interception\", data=df_edf)\n",
    "ax.set_xticklabels(ax.get_xticklabels(),rotation=30)\n",
    "\n",
    "# add title\n",
    "plt.title('Interceptions of players)')\n",
    "fig = ax.get_figure()\n",
    "\n",
    "#save figure\n",
    "fig.savefig('Interceptio.png')\n",
    "            "
   ]
  },
  {
   "cell_type": "markdown",
   "metadata": {},
   "source": [
    "#### Bar plot for Aerial of 5 players"
   ]
  },
  {
   "cell_type": "code",
   "execution_count": null,
   "metadata": {},
   "outputs": [],
   "source": [
    "ax = sns.barplot(x ='name',y=\"Aerial Duel\", data=df_edf)\n",
    "ax.set_xticklabels(ax.get_xticklabels(),rotation=30)\n",
    "plt.title('Aerial duel)')\n",
    "fig = ax.get_figure()\n",
    "fig.savefig('Aerial duel.png')\n",
    "            \n"
   ]
  },
  {
   "cell_type": "markdown",
   "metadata": {},
   "source": [
    "##  Analysis - Part 3  : Game by game analysis of 5 players"
   ]
  },
  {
   "cell_type": "code",
   "execution_count": null,
   "metadata": {},
   "outputs": [],
   "source": [
    "#### Creating Profile for Michael Keane by each match\n",
    "df_keane = df_keane.filter(cols_profile,axis=1)\n",
    "df_kurt = df_kurt.filter(cols_profile,axis=1)\n",
    "df_mina = df_mina.filter(cols_profile,axis=1)\n",
    "df_holgate = df_holgate.filter(cols_profile,axis=1)\n",
    "df_Jagielka = df_Jagielka.filter(cols_profile,axis=1)\n",
    "df_koch= df_koch.filter(cols_profile,axis=1)   \n",
    "df_light = df_light.filter(cols_profile,axis=1)  \n",
    " \n",
    "\n",
    "\n",
    "cols = ['Pass Receiver Position_id','GK Shot Faced','Gk kick from hands','Keeper Throw']\n",
    "#'Mins Played'\n",
    "# dropping certain columns which are less-relevant to a Central defender\n",
    "df_game_keane = df_keane.groupby(['Matchday'],as_index=False).sum().drop(cols,axis=1) \n",
    "df_game_kurt = df_kurt.groupby(['Matchday'],as_index=False).sum().drop(cols,axis=1) \n",
    "df_game_mina = df_mina.groupby(['Matchday'],as_index=False).sum().drop(cols,axis=1) \n",
    "df_game_holgate = df_holgate.groupby(['Matchday'],as_index=False).sum().drop(cols,axis=1)\n",
    "df_game_Jagielka = df_Jagielka.groupby(['Matchday'],as_index=False).sum().drop(cols,axis=1) \n",
    "df_game_koch = df_koch.groupby(['Matchday'],as_index=False).sum().drop(cols,axis=1)\n",
    "df_game_light = df_light.groupby(['Matchday'],as_index=False).sum().drop(cols,axis=1) "
   ]
  },
  {
   "cell_type": "code",
   "execution_count": null,
   "metadata": {},
   "outputs": [],
   "source": [
    "#df_game_keane"
   ]
  },
  {
   "cell_type": "code",
   "execution_count": null,
   "metadata": {},
   "outputs": [],
   "source": [
    "# creating score for each player match by match\n",
    "df_game_keane['score'] =df_game_keane['Defensive Duel']*10.0 + df_game_keane['Interception']*9.3 + df_game_keane['Successful Tackle']*10+df_game_keane['Aerial Duel']*8.7 + df_game_keane['Blocked Cross']*6.0 + df_game_keane['Blocked A Shot']*7.7+ df_game_keane['Tackle Attempt']*7.3+ df_game_keane['Ball Recovery']*7.7     \n",
    "df_game_kurt['score'] =df_game_kurt['Defensive Duel']*10.0 + df_game_kurt['Interception']*9.3 + df_game_kurt['Successful Tackle']*10+df_game_kurt['Aerial Duel']*8.7 + df_game_kurt['Blocked Cross']*6.0 + df_game_kurt['Blocked A Shot']*7.7+ df_game_kurt['Tackle Attempt']*7.3+ df_game_kurt['Ball Recovery']*7.7     \n",
    "df_game_mina['score'] =df_game_mina['Defensive Duel']*10.0 + df_game_mina['Interception']*9.3 + df_game_mina['Successful Tackle']*10+df_game_mina['Aerial Duel']*8.7 + df_game_mina['Blocked Cross']*6.0 + df_game_mina['Blocked A Shot']*7.7+ df_game_mina['Tackle Attempt']*7.3+ df_game_mina['Ball Recovery']*7.7     \n",
    "df_game_holgate['score'] =df_game_holgate['Defensive Duel']*10.0 + df_game_holgate['Interception']*9.3 + df_game_holgate['Successful Tackle']*10+df_game_holgate['Aerial Duel']*8.7 + df_game_holgate['Blocked Cross']*6.0 + df_game_holgate['Blocked A Shot']*7.7+ df_game_holgate['Tackle Attempt']*7.3+ df_game_holgate['Ball Recovery']*7.7     \n",
    "df_game_Jagielka['score'] =df_game_Jagielka['Defensive Duel']*10.0 + df_game_Jagielka['Interception']*9.3 + df_game_Jagielka['Successful Tackle']*10+df_game_Jagielka['Aerial Duel']*8.7 + df_game_Jagielka['Blocked Cross']*6.0 + df_game_Jagielka['Blocked A Shot']*7.7+ df_game_Jagielka['Tackle Attempt']*7.3+ df_game_Jagielka['Ball Recovery']*7.7     \n",
    "df_game_koch['score'] =df_game_koch['Defensive Duel']*10.0 + df_game_koch['Interception']*9.3 + df_game_koch['Successful Tackle']*10+df_game_koch['Aerial Duel']*8.7 + df_game_koch['Blocked Cross']*6.0 + df_game_koch['Blocked A Shot']*7.7+ df_game_koch['Tackle Attempt']*7.3+ df_game_koch['Ball Recovery']*7.7     \n",
    "df_game_light['score'] =df_game_light['Defensive Duel']*10.0 + df_game_light['Interception']*9.3 + df_game_light['Successful Tackle']*10+df_game_light['Aerial Duel']*8.7 + df_game_light['Blocked Cross']*6.0 + df_game_light['Blocked A Shot']*7.7+ df_game_light['Tackle Attempt']*7.3+ df_game_light['Ball Recovery']*7.7     \n",
    "\n"
   ]
  },
  {
   "cell_type": "code",
   "execution_count": null,
   "metadata": {},
   "outputs": [],
   "source": [
    "# craeying a game by game dataframe for each player\n",
    "df_game_keane['name']='Michael Keane'\n",
    "df_game_Jagielka['name'] = 'Phil Jagielka'\n",
    "df_game_holgate['name'] = 'joseph holgate'\n",
    "df_game_mina['name'] = 'Yerry Mina'\n",
    "df_game_kurt['name'] = 'kurt zouma '\n",
    "df_game_koch['name'] = 'Robin Koch'\n",
    "df_game_light['name'] = 'matthijs de ligt '"
   ]
  },
  {
   "cell_type": "code",
   "execution_count": null,
   "metadata": {},
   "outputs": [],
   "source": [
    "# Concatening all of them to create a single dataframe\n",
    "df_def_analysis = pd.concat([df_game_kurt,df_game_mina,df_game_holgate,df_game_Jagielka,df_game_keane,df_game_light,df_game_koch],axis=0)"
   ]
  },
  {
   "cell_type": "markdown",
   "metadata": {},
   "source": [
    "#### Plotting match day by dat score of each of the player to see the progression"
   ]
  },
  {
   "cell_type": "code",
   "execution_count": null,
   "metadata": {},
   "outputs": [],
   "source": [
    "plt.figure(figsize=(12, 12))\n",
    "ax = sns.lineplot(x=\"Matchday\", y=\"score\",data=df_def_analysis,hue=\"name\")\n",
    "\n",
    "#adding the title\n",
    "plt.title('Match day by Match day)')\n",
    "fig = ax.get_figure()\n",
    "\n",
    "#saving the figure\n",
    "fig.savefig('MATCH DAY.png')\n",
    "            \n",
    " "
   ]
  },
  {
   "cell_type": "markdown",
   "metadata": {},
   "source": [
    "# Home vs Away Performance"
   ]
  },
  {
   "cell_type": "code",
   "execution_count": null,
   "metadata": {},
   "outputs": [],
   "source": [
    "df.head()"
   ]
  },
  {
   "cell_type": "code",
   "execution_count": null,
   "metadata": {},
   "outputs": [],
   "source": [
    "# Creating a home and away  dataframe\n",
    "df_home = df[df['Home Team Name']=='Everton']\n",
    "\n",
    "#away\n",
    "df_away = df[df['Home Team Name']!='Everton']\n",
    "\n"
   ]
  },
  {
   "cell_type": "markdown",
   "metadata": {},
   "source": [
    "#### Passing For Home"
   ]
  },
  {
   "cell_type": "code",
   "execution_count": null,
   "metadata": {},
   "outputs": [],
   "source": [
    "# Creating dataframes for pass profile for home\n",
    "home_pass_plot = df_home.filter(cols_plot,axis=1).dropna()\n",
    "\n",
    "# Creating dataframes for pass profile of Michael Keane for home\n",
    "df_keane_plot_home =  home_pass_plot[home_pass_plot['name']=='Michael Keane']"
   ]
  },
  {
   "cell_type": "markdown",
   "metadata": {},
   "source": [
    "#### Passing For Away"
   ]
  },
  {
   "cell_type": "code",
   "execution_count": null,
   "metadata": {},
   "outputs": [],
   "source": [
    "# Creating dataframes for pass profile for away\n",
    "away_pass_plot = df_away.filter(cols_plot,axis=1).dropna()\n",
    "\n",
    "# Creating dataframes for pass profile of Michael Keane for away\n",
    "df_keane_plot_away =  away_pass_plot[away_pass_plot['name']=='Michael Keane']"
   ]
  },
  {
   "cell_type": "code",
   "execution_count": null,
   "metadata": {},
   "outputs": [],
   "source": [
    "df_keane_plot"
   ]
  },
  {
   "cell_type": "markdown",
   "metadata": {},
   "source": [
    "#### 1(a) Plotting Passing in home "
   ]
  },
  {
   "cell_type": "code",
   "execution_count": null,
   "metadata": {},
   "outputs": [],
   "source": [
    "# Successful passing heatmap\n",
    "\n",
    "draw_pitch()\n",
    "\n",
    "#adding title\n",
    "plt.title('Michael Keane(home Successful Passes)')\n",
    "\n",
    " \n",
    "#sucess\n",
    "keane_succes = df_keane_plot_home[df_keane_plot_home['outcome']=='success']\n",
    "ax = sns.kdeplot(keane_succes['Pass End X'],keane_succes['Pass End Y'], shade=True,n_levels=50)\n",
    "\n",
    "\n",
    "plt.ylim(0, 90)\n",
    "plt.xlim(0, 130)\n",
    "\n",
    "\n",
    "#Display Pitch\n",
    "plt.show()\n",
    "\n"
   ]
  },
  {
   "cell_type": "markdown",
   "metadata": {},
   "source": [
    "#### 1(b) Plotting Passing in away"
   ]
  },
  {
   "cell_type": "code",
   "execution_count": null,
   "metadata": {},
   "outputs": [],
   "source": [
    "# Successful passing heatmap\n",
    "\n",
    "draw_pitch()\n",
    "\n",
    "#adding title\n",
    "plt.title('Michael Keane(Away Successful Passes)')\n",
    "\n",
    " \n",
    "#sucess\n",
    "keane_succes = df_keane_plot_away[df_keane_plot_away['outcome']=='success']\n",
    "ax = sns.kdeplot(keane_succes['Pass End X'],keane_succes['Pass End Y'], shade=True,n_levels=50)\n",
    "\n",
    "\n",
    "plt.ylim(0, 90)\n",
    "plt.xlim(0, 130)\n",
    "\n",
    "\n",
    "#Display Pitch\n",
    "plt.show()"
   ]
  },
  {
   "cell_type": "markdown",
   "metadata": {},
   "source": [
    "#### 2(a) Depth in home  "
   ]
  },
  {
   "cell_type": "code",
   "execution_count": null,
   "metadata": {},
   "outputs": [],
   "source": [
    "# Successful passing heatmap\n",
    "\n",
    "draw_pitch()\n",
    "\n",
    "#adding title\n",
    "plt.title('Michael Keane(home depth)')\n",
    "\n",
    " \n",
    "#sucess\n",
    "ax = sns.kdeplot(df_keane_plot_home['x'],df_keane_plot_home['y'], shade=True,n_levels=50)\n",
    "\n",
    "\n",
    "plt.ylim(0, 90)\n",
    "plt.xlim(0, 130)\n",
    "\n",
    "\n",
    "#Display Pitch\n",
    "plt.show()\n"
   ]
  },
  {
   "cell_type": "markdown",
   "metadata": {},
   "source": [
    "#### 2(a) Depth in away"
   ]
  },
  {
   "cell_type": "code",
   "execution_count": null,
   "metadata": {},
   "outputs": [],
   "source": [
    "# Successful passing heatmap\n",
    "\n",
    "draw_pitch()\n",
    "\n",
    "#adding title\n",
    "plt.title('Michael Keane(away depth)')\n",
    "\n",
    " \n",
    "#sucess\n",
    "ax = sns.kdeplot(df_keane_plot_away['x'],df_keane_plot_away['y'], shade=True,n_levels=50)\n",
    "\n",
    "\n",
    "plt.ylim(0, 90)\n",
    "plt.xlim(0, 130)\n",
    "\n",
    "\n",
    "#Display Pitch\n",
    "plt.show()"
   ]
  },
  {
   "cell_type": "markdown",
   "metadata": {},
   "source": [
    "### Profiling for home and away for Michael Keane"
   ]
  },
  {
   "cell_type": "markdown",
   "metadata": {},
   "source": [
    "1. Home"
   ]
  },
  {
   "cell_type": "code",
   "execution_count": null,
   "metadata": {},
   "outputs": [],
   "source": [
    "# Creating dataframes for profile for home\n",
    "home_profile = df_home.filter(cols_profile,axis=1).dropna()\n",
    "\n",
    "# Creating dataframes for profile of Michael Keane for home\n",
    "df_keane_profile_home =  home_profile[home_profile['name']=='Michael Keane']"
   ]
  },
  {
   "cell_type": "markdown",
   "metadata": {},
   "source": [
    "2. Away"
   ]
  },
  {
   "cell_type": "code",
   "execution_count": null,
   "metadata": {},
   "outputs": [],
   "source": [
    "# Creating dataframes of profile for away\n",
    "away_profile = df_away.filter(cols_profile,axis=1).dropna()\n",
    "\n",
    "# Creating dataframes of profile of Michael Keane for away\n",
    "df_keane_profile_away =  away_profile[away_profile['name']=='Michael Keane']"
   ]
  },
  {
   "cell_type": "code",
   "execution_count": null,
   "metadata": {},
   "outputs": [],
   "source": [
    "df_keane_profile_away"
   ]
  },
  {
   "cell_type": "code",
   "execution_count": null,
   "metadata": {},
   "outputs": [],
   "source": [
    "df_keane_profile_away.groupby('name').sum()"
   ]
  },
  {
   "cell_type": "code",
   "execution_count": null,
   "metadata": {},
   "outputs": [],
   "source": [
    "df_keane_profile_home.groupby('name').sum()"
   ]
  },
  {
   "cell_type": "code",
   "execution_count": null,
   "metadata": {},
   "outputs": [],
   "source": [
    "df_keane_profile.groupby('name').sum()"
   ]
  },
  {
   "cell_type": "code",
   "execution_count": null,
   "metadata": {},
   "outputs": [],
   "source": []
  }
 ],
 "metadata": {
  "kernelspec": {
   "display_name": "Python 3",
   "language": "python",
   "name": "python3"
  },
  "language_info": {
   "codemirror_mode": {
    "name": "ipython",
    "version": 3
   },
   "file_extension": ".py",
   "mimetype": "text/x-python",
   "name": "python",
   "nbconvert_exporter": "python",
   "pygments_lexer": "ipython3",
   "version": "3.7.1"
  }
 },
 "nbformat": 4,
 "nbformat_minor": 2
}
